{
 "cells": [
  {
   "cell_type": "code",
   "execution_count": 8,
   "id": "25be67fb",
   "metadata": {},
   "outputs": [],
   "source": [
    "import sys, os\n",
    "import casestudy2 as cs2\n",
    "from os import listdir"
   ]
  },
  {
   "cell_type": "code",
   "execution_count": 7,
   "id": "cae19d24",
   "metadata": {},
   "outputs": [
    {
     "name": "stdout",
     "output_type": "stream",
     "text": [
      "C:\\Users\\xergo\\PycharmProjects\\StoutCaseStudy\n",
      "['.git', '.idea', '.ipynb_checkpoints', 'casestudy.csv', 'casestudy1.py', 'casestudy1_figures', 'casestudy2.py', 'casestudy2_figures', 'correlation_heatmap_bwr.png', 'correlation_heatmap_coolwarm.png', 'correlation_heatmap_PiYG.png', 'correlation_heatmap_PRGn.png', 'correlation_heatmap_processed.png', 'correlation_heatmap_PuOr.png', 'correlation_heatmap_RdYlGn.png', 'geddit', 'interest_rate.png', 'loans_full_schema.csv', 'main.py', 'templates', 'Untitled.ipynb', 'venv', 'webapp.py', 'website_making.py', '__pycache__']\n"
     ]
    }
   ],
   "source": [
    "print(os.getcwd())\n",
    "print(listdir(os.getcwd()))\n"
   ]
  }
 ],
 "metadata": {
  "kernelspec": {
   "display_name": "Python 3 (ipykernel)",
   "language": "python",
   "name": "python3"
  },
  "language_info": {
   "codemirror_mode": {
    "name": "ipython",
    "version": 3
   },
   "file_extension": ".py",
   "mimetype": "text/x-python",
   "name": "python",
   "nbconvert_exporter": "python",
   "pygments_lexer": "ipython3",
   "version": "3.8.6"
  }
 },
 "nbformat": 4,
 "nbformat_minor": 5
}
